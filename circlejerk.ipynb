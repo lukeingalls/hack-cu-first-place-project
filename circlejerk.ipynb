{
 "cells": [
  {
   "cell_type": "code",
   "execution_count": 2,
   "metadata": {},
   "outputs": [],
   "source": [
    "MIN_DIM = 100\n",
    "THRESHOLD = 100\n",
    "\n",
    "\n",
    "from PIL import Image, ImageFilter\n",
    "import numpy as np\n",
    "from math import floor, ceil\n",
    "import os"
   ]
  },
  {
   "cell_type": "code",
   "execution_count": 3,
   "metadata": {},
   "outputs": [],
   "source": [
    "# Takes in a filename and will identify the images present in the image. Returns numpy array of pixel values.\n",
    "def get_edges(filename):\n",
    "    im = Image.open(filename).convert('L')\n",
    "    \n",
    "    size = im.size\n",
    "    # Get a scale factor so the smaller of two dimensions is set to MIN_DIM\n",
    "    scale = size[0]/MIN_DIM if size[0]/MIN_DIM < size[1]/MIN_DIM else size[1]/MIN_DIM\n",
    "\n",
    "    # Resize image with scale factor found above\n",
    "    new_size = (round(size[0]/scale), round(size[1]/scale))\n",
    "    im = im.resize(new_size)\n",
    "\n",
    "    # Filter noise\n",
    "    # im = im.filter(ImageFilter.GaussianBlur(radius=1)) # May want to turn this off\n",
    "    im = im.filter(ImageFilter.FIND_EDGES)\n",
    "    \n",
    "    # Copy image array so modifications can be made\n",
    "    image = np.asarray(im).copy()\n",
    "    \n",
    "    #No image borders should be thought of as edges\n",
    "    image[0, :] = 0\n",
    "    image[im.size[1] - 1, :] = 0\n",
    "    image[:, 0] = 0\n",
    "    image[:, im.size[0] - 1] = 0\n",
    "    \n",
    "    return image"
   ]
  },
  {
   "cell_type": "code",
   "execution_count": 4,
   "metadata": {},
   "outputs": [],
   "source": [
    "def threshold(image_matrix):\n",
    "    # WorkingImage is thresholded version of the image array.\n",
    "    workingImage = image_matrix.copy()\n",
    "    workingImage = workingImage > THRESHOLD\n",
    "    # Get rid of points that aren't in threshold\n",
    "    for row in range(image_matrix.shape[0]):\n",
    "        for col in range(image_matrix.shape[1]):\n",
    "            if not workingImage[row][col]:\n",
    "                image_matrix[row][col] = 0\n",
    "                \n",
    "    return image_matrix"
   ]
  },
  {
   "cell_type": "code",
   "execution_count": 5,
   "metadata": {},
   "outputs": [],
   "source": [
    "def get_coords(image_matrix):\n",
    "    workingImage = image_matrix.copy()\n",
    "    workingImage = workingImage > THRESHOLD\n",
    "    # Coordinates of points being explored\n",
    "    coords = []\n",
    "    for row in range(len(workingImage)):\n",
    "        for col in range(len(workingImage[row])):\n",
    "            if (workingImage[row][col] and row != 0 and col != 0):\n",
    "                coords.append((col, row))\n",
    "                \n",
    "    return coords"
   ]
  },
  {
   "cell_type": "code",
   "execution_count": 6,
   "metadata": {},
   "outputs": [],
   "source": [
    "def voting_matrix(image):\n",
    "    matrix_shape = (image.shape[0], image.shape[1], MIN_DIM//2)\n",
    "    return np.zeros(matrix_shape, dtype=int, order='C')"
   ]
  },
  {
   "cell_type": "code",
   "execution_count": 7,
   "metadata": {},
   "outputs": [],
   "source": [
    "def vote(voting_matrix, coords):\n",
    "    matrix_shape = voting_matrix.shape\n",
    "    for r in range(matrix_shape[2]): #The r values\n",
    "        for a,b in coords:\n",
    "            ymin = b - r if (b-r) > 0 else 0\n",
    "            ymax = b\n",
    "            for y in range(ymin, ymax):\n",
    "                det = (r**2 - (b - y)**2)**(1/2)\n",
    "                if isinstance(det, complex):\n",
    "                    continue\n",
    "                else:\n",
    "                    x1 = round(a - det)\n",
    "                    x0 = round(a + det)\n",
    "                    if x1 < matrix_shape[0] and x1 > 0:\n",
    "                        voting_matrix[x1, y, r] += 1\n",
    "                    if x0 < matrix_shape[0] and x0 > 0 and x0 != x1:\n",
    "                        voting_matrix[x0, y, r] += 1\n",
    "                        \n",
    "    return voting_matrix"
   ]
  },
  {
   "cell_type": "code",
   "execution_count": 8,
   "metadata": {},
   "outputs": [],
   "source": [
    "def get_max_votes(voting_matrix):\n",
    "    return np.amax(voting_matrix)"
   ]
  },
  {
   "cell_type": "code",
   "execution_count": 9,
   "metadata": {},
   "outputs": [],
   "source": [
    "def standardize_votes(voting_matrix, max_votes):\n",
    "    return voting_matrix.copy() / (max_votes/255)\n",
    "    "
   ]
  },
  {
   "cell_type": "code",
   "execution_count": 10,
   "metadata": {},
   "outputs": [],
   "source": [
    "def get_max_position(voting_matrix, max_votes):\n",
    "    return np.where(voting_matrix==max_votes)"
   ]
  },
  {
   "cell_type": "code",
   "execution_count": 11,
   "metadata": {},
   "outputs": [],
   "source": [
    "def make_output(image_matrix, max_position):\n",
    "    # Make the output image rgb\n",
    "    outputImage = np.asarray(Image.fromarray(image_matrix).convert('RGB')).copy()\n",
    "    \n",
    "    r = max_position[2][0]\n",
    "    y0 = max_position[0][0]\n",
    "    x0 = max_position[1][0]\n",
    "\n",
    "    xmin = x0 - r\n",
    "    xmax = x0 + r\n",
    "\n",
    "    n = np.linspace(xmin,xmax,(xmax-xmin)*10)\n",
    "    for x in n:\n",
    "        use_x = int(round(x)) if int(round(x)) < outputImage.shape[0] else outputImage.shape[0] -1\n",
    "        use_x = use_x if use_x >= 0 else 0\n",
    "        det = ceil((r**2 - (x - x0)**2)**(1/2))\n",
    "        y_top = int(y0 + det)\n",
    "        y_bot = int(y0 - det)\n",
    "        outputImage[use_x, y_top, 0] = 255\n",
    "        outputImage[use_x, y_bot, 0] = 255\n",
    "        det = floor((r**2 - (x - x0)**2)**(1/2))\n",
    "        y_top = int(y0 + det)\n",
    "        y_bot = int(y0 - det)\n",
    "        outputImage[use_x, y_top, 0] = 255\n",
    "        outputImage[use_x, y_bot, 0] = 255\n",
    "        \n",
    "    return Image.fromarray(outputImage)"
   ]
  },
  {
   "cell_type": "code",
   "execution_count": 12,
   "metadata": {},
   "outputs": [],
   "source": [
    "def generate_animation(standardized_voting_matrix):\n",
    "    for i in range(standardized_voting_matrix.shape[2]):\n",
    "        filename = 'frames/frame' + str(i) + '.png'\n",
    "        Image.fromarray(standardized_voting_matrix[:, :, i]).convert('RGB').save(fp=filename)\n",
    "        \n",
    "    \n",
    "    os.system(\"ffmpeg -f image2 -r 10 -i ./frames/frame%01d.png -vcodec gif animation2.gif\")"
   ]
  },
  {
   "cell_type": "code",
   "execution_count": null,
   "metadata": {},
   "outputs": [],
   "source": []
  },
  {
   "cell_type": "code",
   "execution_count": 13,
   "metadata": {},
   "outputs": [],
   "source": [
    "def driver(filename, animate=0):\n",
    "    image = get_edges(filename)\n",
    "    image = threshold(image)\n",
    "    coords = get_coords(image)\n",
    "    counts = voting_matrix(image)\n",
    "    counts = vote(counts, coords)\n",
    "    max_votes = get_max_votes(counts)\n",
    "    c = standardize_votes(counts, max_votes)\n",
    "    position = get_max_position(counts, max_votes)\n",
    "    score = score_circle(position, coords)\n",
    "    \n",
    "    \n",
    "    if animate:\n",
    "        generate_animation(c)\n",
    "        \n",
    "    return make_output(image, position), score"
   ]
  },
  {
   "cell_type": "code",
   "execution_count": 14,
   "metadata": {},
   "outputs": [],
   "source": [
    "def score_circle(position, coords):\n",
    "    x = position[0][0]\n",
    "    y = position[1][0]\n",
    "    radius = position[2][0]\n",
    "    \n",
    "    score = 0\n",
    "    \n",
    "    # a is the x coordinate of the pixel and b is the y coordinate\n",
    "    for a,b in coords:\n",
    "        det = ( radius**2 + (x - a)**2 )**( 1/2 )\n",
    "        yhi = y + det\n",
    "        ylo = y - det\n",
    "        \n",
    "        yuti = ylo if (y - ylo)**2 < (y - yhi)**2 else yhi\n",
    "        \n",
    "        score += (((a - x)**2 + (yuti - b)**2)**(1/2) - radius)\n",
    "        \n",
    "    return score"
   ]
  },
  {
   "cell_type": "code",
   "execution_count": null,
   "metadata": {},
   "outputs": [],
   "source": []
  },
  {
   "cell_type": "code",
   "execution_count": 16,
   "metadata": {},
   "outputs": [],
   "source": [
    "driver('images/IMG_3426.jpg')[0].show()"
   ]
  },
  {
   "cell_type": "code",
   "execution_count": null,
   "metadata": {},
   "outputs": [],
   "source": []
  },
  {
   "cell_type": "code",
   "execution_count": null,
   "metadata": {},
   "outputs": [],
   "source": []
  },
  {
   "cell_type": "code",
   "execution_count": null,
   "metadata": {},
   "outputs": [],
   "source": []
  },
  {
   "cell_type": "code",
   "execution_count": null,
   "metadata": {},
   "outputs": [],
   "source": []
  }
 ],
 "metadata": {
  "kernelspec": {
   "display_name": "Python 3",
   "language": "python",
   "name": "python3"
  },
  "language_info": {
   "codemirror_mode": {
    "name": "ipython",
    "version": 3
   },
   "file_extension": ".py",
   "mimetype": "text/x-python",
   "name": "python",
   "nbconvert_exporter": "python",
   "pygments_lexer": "ipython3",
   "version": "3.7.6"
  }
 },
 "nbformat": 4,
 "nbformat_minor": 4
}
