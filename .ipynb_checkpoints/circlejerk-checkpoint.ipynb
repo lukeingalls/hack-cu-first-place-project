{
 "cells": [
  {
   "cell_type": "code",
   "execution_count": 54,
   "metadata": {},
   "outputs": [],
   "source": [
    "MIN_DIM = 100\n",
    "THRESHOLD = 50\n",
    "\n",
    "\n",
    "from PIL import Image, ImageFilter\n",
    "import numpy as np\n",
    "from math import floor, ceil\n",
    "import os"
   ]
  },
  {
   "cell_type": "code",
   "execution_count": 55,
   "metadata": {},
   "outputs": [],
   "source": [
    "def get_edges(filename):\n",
    "    im = Image.open(filename).convert('L')\n",
    "    \n",
    "    size = im.size\n",
    "    # Get a scale factor so the smaller of two dimensions is set to MIN_DIM\n",
    "    scale = size[0]/MIN_DIM if size[0]/MIN_DIM < size[1]/MIN_DIM else size[1]/MIN_DIM\n",
    "\n",
    "    # Resize image with scale factor found above\n",
    "    new_size = (round(size[0]/scale), round(size[1]/scale))\n",
    "    im = im.resize(new_size)\n",
    "\n",
    "    # Filter noise\n",
    "    # im = im.filter(ImageFilter.GaussianBlur(radius=1)) # May want to turn this off\n",
    "    im = im.filter(ImageFilter.FIND_EDGES)\n",
    "    \n",
    "    # Copy image array so modifications can be made\n",
    "    image = np.asarray(im).copy()\n",
    "    \n",
    "    #No image borders should be thought of as edges\n",
    "    image[0, :] = 0\n",
    "    image[im.size[1] - 1, :] = 0\n",
    "    image[:, 0] = 0\n",
    "    image[:, im.size[0] - 1] = 0\n",
    "    \n",
    "    return image"
   ]
  },
  {
   "cell_type": "code",
   "execution_count": 56,
   "metadata": {},
   "outputs": [],
   "source": [
    "def threshold(image_matrix):\n",
    "    # WorkingImage is thresholded version of the image array.\n",
    "    workingImage = image_matrix.copy()\n",
    "    workingImage = workingImage > THRESHOLD\n",
    "    # Get rid of points that aren't in threshold\n",
    "    for row in range(image_matrix.shape[0]):\n",
    "        for col in range(image_matrix.shape[1]):\n",
    "            if not workingImage[row][col]:\n",
    "                image_matrix[row][col] = 0\n",
    "                \n",
    "    return image_matrix"
   ]
  },
  {
   "cell_type": "code",
   "execution_count": 57,
   "metadata": {},
   "outputs": [],
   "source": [
    "def get_coords(image_matrix):\n",
    "    workingImage = image_matrix.copy()\n",
    "    workingImage = workingImage > THRESHOLD\n",
    "    # Coordinates of points being explored\n",
    "    coords = []\n",
    "    for row in range(len(workingImage)):\n",
    "        for col in range(len(workingImage[row])):\n",
    "            if (workingImage[row][col] and row != 0 and col != 0):\n",
    "                coords.append((col, row))\n",
    "                \n",
    "    return coords"
   ]
  },
  {
   "cell_type": "code",
   "execution_count": 58,
   "metadata": {},
   "outputs": [],
   "source": [
    "def voting_matrix(image):\n",
    "    matrix_shape = (image.shape[0], image.shape[1], MIN_DIM//2)\n",
    "    return np.zeros(matrix_shape, dtype=int, order='C')"
   ]
  },
  {
   "cell_type": "code",
   "execution_count": 59,
   "metadata": {},
   "outputs": [],
   "source": [
    "def vote(voting_matrix, coords):\n",
    "    matrix_shape = voting_matrix.shape\n",
    "    for r in range(matrix_shape[2]): #The r values\n",
    "        for a,b in coords:\n",
    "            ymin = b - r if (b-r) > 0 else 0\n",
    "            ymax = b\n",
    "            for y in range(ymin, ymax):\n",
    "                det = (r**2 - (b - y)**2)**(1/2)\n",
    "                if isinstance(det, complex):\n",
    "                    continue\n",
    "                else:\n",
    "                    x1 = round(a - det)\n",
    "                    x0 = round(a + det)\n",
    "                    if x1 < matrix_shape[1] and x1 >= 0:\n",
    "                        voting_matrix[y, x1, r] += 1\n",
    "                    if x0 < matrix_shape[1] and x0 >= 0 and x0 != x1:\n",
    "                        voting_matrix[y, x0, r] += 1\n",
    "                        \n",
    "    return voting_matrix"
   ]
  },
  {
   "cell_type": "code",
   "execution_count": 60,
   "metadata": {},
   "outputs": [],
   "source": [
    "def get_max_votes(voting_matrix):\n",
    "    return np.amax(voting_matrix)"
   ]
  },
  {
   "cell_type": "code",
   "execution_count": 61,
   "metadata": {},
   "outputs": [],
   "source": [
    "def standardize_votes(voting_matrix, max_votes):\n",
    "    return voting_matrix.copy() / (max_votes/255)"
   ]
  },
  {
   "cell_type": "code",
   "execution_count": 122,
   "metadata": {},
   "outputs": [],
   "source": [
    "def get_max_position(voting_matrix, max_votes, coords=None):\n",
    "    if coords is not None:\n",
    "        flat = counts.flatten()\n",
    "        flat.sort()\n",
    "        top_ten = flat[-21:-1]\n",
    "        ten_coords = []\n",
    "        for i in range(len(top_ten) - 1, -1, -1):\n",
    "            mc = np.where(voting_matrix==top_ten[i])\n",
    "            ten_coords += [(mc[0][j], mc[1][j], mc[2][j]) for j in range(len(mc[0]))]\n",
    "            if len(ten_coords) >= 30:\n",
    "                break\n",
    "        \n",
    "        scores = [score_circle(c, coords) for c in ten_coords]\n",
    "        s = min(scores)\n",
    "        best_estimate = scores.index(s)\n",
    "        print(scores)\n",
    "        return ten_coords[best_estimate]\n",
    "    else:\n",
    "        score = np.where(voting_matrix==max_votes)\n",
    "        return (score[0][0], score[1][0], score[2][0])"
   ]
  },
  {
   "cell_type": "code",
   "execution_count": 87,
   "metadata": {},
   "outputs": [],
   "source": [
    "def make_output(image_matrix, max_position):\n",
    "    # Make the output image rgb\n",
    "    outputImage = np.asarray(Image.fromarray(image_matrix).convert('RGB')).copy()\n",
    "    print(max_position)\n",
    "    r = max_position[2]\n",
    "    y0 = max_position[0]\n",
    "    x0 = max_position[1]\n",
    "\n",
    "    xmin = x0 - r\n",
    "    xmax = x0 + r\n",
    "\n",
    "    n = np.linspace(xmin,xmax,(xmax-xmin)*10)\n",
    "    for x in n:\n",
    "        use_x = int(round(x)) if int(round(x)) < outputImage.shape[1] else outputImage.shape[1] -1\n",
    "        use_x = use_x if use_x >= 0 else 0\n",
    "        det = ceil((r**2 - (x - x0)**2)**(1/2))\n",
    "        y_top = int(y0 + det)\n",
    "        y_bot = int(y0 - det)\n",
    "        outputImage[y_top, use_x, 0] = 255\n",
    "        outputImage[y_bot, use_x, 0] = 255\n",
    "        det = floor((r**2 - (x - x0)**2)**(1/2))\n",
    "        y_top = int(y0 + det)\n",
    "        y_bot = int(y0 - det)\n",
    "        outputImage[y_top, use_x, 0] = 255\n",
    "        outputImage[y_bot, use_x, 0] = 255\n",
    "        \n",
    "    return Image.fromarray(outputImage)"
   ]
  },
  {
   "cell_type": "code",
   "execution_count": 88,
   "metadata": {},
   "outputs": [],
   "source": [
    "def generate_animation(standardized_voting_matrix):\n",
    "    for i in range(standardized_voting_matrix.shape[2]):\n",
    "        filename = 'frames/frame' + str(i) + '.png'\n",
    "        Image.fromarray(standardized_voting_matrix[:, :, i]).convert('RGB').save(fp=filename)\n",
    "        \n",
    "    \n",
    "    os.system(\"ffmpeg -f image2 -r 10 -i ./frames/frame%01d.png -vcodec gif animation2.gif\")"
   ]
  },
  {
   "cell_type": "code",
   "execution_count": 89,
   "metadata": {},
   "outputs": [],
   "source": [
    "def score_circle(position, coords):\n",
    "    x = position[1]\n",
    "    y = position[0]\n",
    "    radius = position[2]\n",
    "\n",
    "    score = 0\n",
    "\n",
    "    # a is the x coordinate of the pixel and b is the y coordinate\n",
    "    for a,b in coords:\n",
    "        score += abs((((a - x)**2 + (b - y)**2)**(1/2)) - radius)\n",
    "\n",
    "    return score / len(coords)"
   ]
  },
  {
   "cell_type": "code",
   "execution_count": 123,
   "metadata": {},
   "outputs": [
    {
     "name": "stdout",
     "output_type": "stream",
     "text": [
      "[5.043262902965946, 6.7966552933831075, 6.029444198742654, 5.043262902965946, 6.7966552933831075, 6.029444198742654, 5.284126183306101, 8.161419738660546, 5.336712572652112, 4.791845647981357, 6.224917595031241, 5.336712572652112, 4.791845647981357, 6.224917595031241, 5.336712572652112, 4.791845647981357, 6.224917595031241, 3.5503058413185813, 5.238481625479771, 6.5924240730221655, 3.5503058413185813, 5.238481625479771, 6.5924240730221655, 3.5503058413185813, 5.238481625479771, 6.5924240730221655, 14.86366538427658, 6.207110354627379, 7.88297571989253, 14.86366538427658, 6.207110354627379, 7.88297571989253]\n"
     ]
    }
   ],
   "source": [
    "animate = False\n",
    "image = get_edges('circle2.jpg')\n",
    "image = threshold(image)\n",
    "coords = get_coords(image)\n",
    "counts = voting_matrix(image)\n",
    "counts = vote(counts, coords)\n",
    "max_votes = get_max_votes(counts)\n",
    "c = standardize_votes(counts, max_votes)\n",
    "position = get_max_position(counts, max_votes, coords)\n",
    "score = score_circle(position, coords)\n",
    "\n",
    "if animate:\n",
    "    generate_animation(c)\n"
   ]
  },
  {
   "cell_type": "code",
   "execution_count": 124,
   "metadata": {},
   "outputs": [
    {
     "name": "stdout",
     "output_type": "stream",
     "text": [
      "3.5503058413185813\n",
      "(52, 54, 27)\n"
     ]
    },
    {
     "data": {
      "image/png": "[encoded data removed]",
      "text/plain": [
       "<PIL.Image.Image image mode=RGB size=113x100 at 0x1208D8FD0>"
      ]
     },
     "execution_count": 124,
     "metadata": {},
     "output_type": "execute_result"
    }
   ],
   "source": [
    "print(score)\n",
    "make_output(image, position)"
   ]
  },
  {
   "cell_type": "code",
   "execution_count": null,
   "metadata": {},
   "outputs": [],
   "source": []
  },
  {
   "cell_type": "code",
   "execution_count": null,
   "metadata": {},
   "outputs": [],
   "source": []
  },
  {
   "cell_type": "code",
   "execution_count": null,
   "metadata": {},
   "outputs": [],
   "source": []
  }
 ],
 "metadata": {
  "kernelspec": {
   "display_name": "Python 3",
   "language": "python",
   "name": "python3"
  },
  "language_info": {
   "codemirror_mode": {
    "name": "ipython",
    "version": 3
   },
   "file_extension": ".py",
   "mimetype": "text/x-python",
   "name": "python",
   "nbconvert_exporter": "python",
   "pygments_lexer": "ipython3",
   "version": "3.7.6"
  }
 },
 "nbformat": 4,
 "nbformat_minor": 4
}
